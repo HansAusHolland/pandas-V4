{
 "cells": [
  {
   "cell_type": "markdown",
   "id": "d0dec6b4-3204-4dc7-9cd9-73c6bc36e6d2",
   "metadata": {},
   "source": [
    "<h1 style=\"text-align: center;\"> Python Pandas: Module 2 </h1>\n",
    "<img\n",
    "    style=\"display: block;\n",
    "    margin-left: auto;\n",
    "    margin-right: auto;\n",
    "    width: 50%;\"\n",
    "    src=\"https://upload.wikimedia.org/wikipedia/commons/thumb/e/ed/Pandas_logo.svg/600px-Pandas_logo.svg.png\" \n",
    "    alt=\"Our logo\">\n",
    "</img>"
   ]
  },
  {
   "cell_type": "code",
   "execution_count": null,
   "id": "d479d775-d801-42c6-9f69-7e83615fb48e",
   "metadata": {},
   "outputs": [],
   "source": [
    "### Inleiding tot Python Pandas Module 2 ###\n",
    "# Welkom terug! Vandaag gaan we dieper in op enkele geavanceerde technieken voor het manipuleren van DataFrames in Pandas. \n",
    "# We verkennen de Pandas functie .groupby(), pivot-tabellen en het samenvoegen van DataFrames verkennen, met behulp van een dataset over Spotify-artiesten.\n",
    "\n",
    "### Opdracht 1: Importeren van Pandas ###\n",
    "# Eerst de Pandas-bibliotheek importeren. Pandas helpt ons om gemakkelijk met gegevens te werken."
   ]
  },
  {
   "cell_type": "code",
   "execution_count": 2,
   "id": "475d7b0a-ffc9-47f2-92b2-b0352d7607ae",
   "metadata": {},
   "outputs": [],
   "source": [
    "import pandas as pd"
   ]
  },
  {
   "cell_type": "code",
   "execution_count": null,
   "id": "0ca2b93c-1b0d-41ff-8ed2-3a71a81fde33",
   "metadata": {},
   "outputs": [],
   "source": [
    "### Opdracht 2: Onze gegevens ###\n",
    "# 1. Laten we een dataset creëren over verschillende artiesten en hun nummers op Spotify. \n",
    "# 2. Deze dataset bevat informatie over de naam van de artiest, de titel van het nummer, het aantal streams en de prijs per stream.\n",
    "# 3. Converteer de dictionary naar een Pandas DataFrame\n",
    "# 4. Toon het DataFrame"
   ]
  },
  {
   "cell_type": "code",
   "execution_count": 10,
   "id": "2486e582-270b-4fab-8573-5be5a37b0f9a",
   "metadata": {},
   "outputs": [
    {
     "data": {
      "text/html": [
       "<div>\n",
       "<style scoped>\n",
       "    .dataframe tbody tr th:only-of-type {\n",
       "        vertical-align: middle;\n",
       "    }\n",
       "\n",
       "    .dataframe tbody tr th {\n",
       "        vertical-align: top;\n",
       "    }\n",
       "\n",
       "    .dataframe thead th {\n",
       "        text-align: right;\n",
       "    }\n",
       "</style>\n",
       "<table border=\"1\" class=\"dataframe\">\n",
       "  <thead>\n",
       "    <tr style=\"text-align: right;\">\n",
       "      <th></th>\n",
       "      <th>Artiest</th>\n",
       "      <th>Titel</th>\n",
       "      <th>Streams</th>\n",
       "      <th>Prijs per stream</th>\n",
       "    </tr>\n",
       "  </thead>\n",
       "  <tbody>\n",
       "    <tr>\n",
       "      <th>0</th>\n",
       "      <td>Drake</td>\n",
       "      <td>God's Plan</td>\n",
       "      <td>1500000000</td>\n",
       "      <td>0.004</td>\n",
       "    </tr>\n",
       "    <tr>\n",
       "      <th>1</th>\n",
       "      <td>Taylor Swift</td>\n",
       "      <td>Love Story</td>\n",
       "      <td>300000000</td>\n",
       "      <td>0.004</td>\n",
       "    </tr>\n",
       "    <tr>\n",
       "      <th>2</th>\n",
       "      <td>Ed Sheeran</td>\n",
       "      <td>Shape of You</td>\n",
       "      <td>2600000000</td>\n",
       "      <td>0.004</td>\n",
       "    </tr>\n",
       "    <tr>\n",
       "      <th>3</th>\n",
       "      <td>Billie Eilish</td>\n",
       "      <td>Bad Guy</td>\n",
       "      <td>1900000000</td>\n",
       "      <td>0.004</td>\n",
       "    </tr>\n",
       "    <tr>\n",
       "      <th>4</th>\n",
       "      <td>BTS</td>\n",
       "      <td>Dynamite</td>\n",
       "      <td>1700000000</td>\n",
       "      <td>0.004</td>\n",
       "    </tr>\n",
       "  </tbody>\n",
       "</table>\n",
       "</div>"
      ],
      "text/plain": [
       "         Artiest         Titel     Streams  Prijs per stream\n",
       "0          Drake    God's Plan  1500000000             0.004\n",
       "1   Taylor Swift    Love Story   300000000             0.004\n",
       "2     Ed Sheeran  Shape of You  2600000000             0.004\n",
       "3  Billie Eilish       Bad Guy  1900000000             0.004\n",
       "4            BTS      Dynamite  1700000000             0.004"
      ]
     },
     "execution_count": 10,
     "metadata": {},
     "output_type": "execute_result"
    }
   ],
   "source": [
    "spotify_artiesten = {\n",
    "    \"Artiest\": [\"Drake\", \"Taylor Swift\", \"Ed Sheeran\", \"Billie Eilish\", \"BTS\", \"Ariana Grande\"],\n",
    "    \"Titel\": [\"God's Plan\", \"Love Story\", \"Shape of You\", \"Bad Guy\", \"Dynamite\", \"7 rings\"],\n",
    "    \"Streams\": [1500000000, 300000000, 2600000000, 1900000000, 1700000000, 2100000000],\n",
    "    \"Prijs per stream\": [0.004, 0.004, 0.004, 0.004, 0.004, 0.004],\n",
    "}\n",
    "\n",
    "spotify_df = pd.DataFrame(spotify_artiesten)\n",
    "\n",
    "spotify_df.head()"
   ]
  },
  {
   "cell_type": "code",
   "execution_count": null,
   "id": "ba3846c9-f3a4-461a-9efd-604ef9ee6c5e",
   "metadata": {},
   "outputs": [],
   "source": [
    "### Opdracht 3: Verkennen van de DataFrame ###\n",
    "# Bekijk de structuur van onze DataFrame en de eerste paar rijen met de functie .info()."
   ]
  },
  {
   "cell_type": "code",
   "execution_count": 20,
   "id": "5ee98aa7-5b8e-4fdd-ad9e-fca9a99f3bc7",
   "metadata": {},
   "outputs": [
    {
     "name": "stdout",
     "output_type": "stream",
     "text": [
      "<class 'pandas.core.frame.DataFrame'>\n",
      "RangeIndex: 6 entries, 0 to 5\n",
      "Data columns (total 4 columns):\n",
      " #   Column            Non-Null Count  Dtype  \n",
      "---  ------            --------------  -----  \n",
      " 0   Artiest           6 non-null      object \n",
      " 1   Titel             6 non-null      object \n",
      " 2   Streams           6 non-null      int64  \n",
      " 3   Prijs per stream  6 non-null      float64\n",
      "dtypes: float64(1), int64(1), object(2)\n",
      "memory usage: 324.0+ bytes\n"
     ]
    }
   ],
   "source": [
    "spotify_df.info()"
   ]
  },
  {
   "cell_type": "code",
   "execution_count": null,
   "id": "c3e38429-b1d3-4dbe-bbbc-24364592f829",
   "metadata": {},
   "outputs": [],
   "source": [
    "### Opdracht 4: DataFrame bewerken ###\n",
    "# Eenvoudige bewerkingen uitvoeren op het DataFrame. Start met het berekenen van het totale aantal streams."
   ]
  },
  {
   "cell_type": "code",
   "execution_count": 4,
   "id": "e58d49b0-15d0-4920-8b05-6d060ffca90a",
   "metadata": {},
   "outputs": [
    {
     "name": "stdout",
     "output_type": "stream",
     "text": [
      "Totaal aantal streams: 10100000000\n"
     ]
    }
   ],
   "source": [
    "totaal_streams = spotify_df[\"Streams\"].sum()\n",
    "print(f\"Totaal aantal streams: {totaal_streams}\")"
   ]
  },
  {
   "cell_type": "code",
   "execution_count": null,
   "id": "dcc3b46e-71fa-4753-9a3e-3914af77c9f6",
   "metadata": {},
   "outputs": [],
   "source": [
    "### Opdracht5: Nieuwe kolom toevoegen. ###\n",
    "# Voeg een nieuwe kolom toe die de totale inkomsten voor elk nummer berekent (streams * prijs per stream)."
   ]
  },
  {
   "cell_type": "code",
   "execution_count": 5,
   "id": "d29e9014-5cfb-4669-90a6-f1abae6888ac",
   "metadata": {},
   "outputs": [
    {
     "data": {
      "text/html": [
       "<div>\n",
       "<style scoped>\n",
       "    .dataframe tbody tr th:only-of-type {\n",
       "        vertical-align: middle;\n",
       "    }\n",
       "\n",
       "    .dataframe tbody tr th {\n",
       "        vertical-align: top;\n",
       "    }\n",
       "\n",
       "    .dataframe thead th {\n",
       "        text-align: right;\n",
       "    }\n",
       "</style>\n",
       "<table border=\"1\" class=\"dataframe\">\n",
       "  <thead>\n",
       "    <tr style=\"text-align: right;\">\n",
       "      <th></th>\n",
       "      <th>Artiest</th>\n",
       "      <th>Titel</th>\n",
       "      <th>Streams</th>\n",
       "      <th>Prijs per stream</th>\n",
       "      <th>Totale inkomsten</th>\n",
       "    </tr>\n",
       "  </thead>\n",
       "  <tbody>\n",
       "    <tr>\n",
       "      <th>0</th>\n",
       "      <td>Drake</td>\n",
       "      <td>God's Plan</td>\n",
       "      <td>1500000000</td>\n",
       "      <td>0.004</td>\n",
       "      <td>6000000.0</td>\n",
       "    </tr>\n",
       "    <tr>\n",
       "      <th>1</th>\n",
       "      <td>Taylor Swift</td>\n",
       "      <td>Love Story</td>\n",
       "      <td>300000000</td>\n",
       "      <td>0.004</td>\n",
       "      <td>1200000.0</td>\n",
       "    </tr>\n",
       "    <tr>\n",
       "      <th>2</th>\n",
       "      <td>Ed Sheeran</td>\n",
       "      <td>Shape of You</td>\n",
       "      <td>2600000000</td>\n",
       "      <td>0.004</td>\n",
       "      <td>10400000.0</td>\n",
       "    </tr>\n",
       "    <tr>\n",
       "      <th>3</th>\n",
       "      <td>Billie Eilish</td>\n",
       "      <td>Bad Guy</td>\n",
       "      <td>1900000000</td>\n",
       "      <td>0.004</td>\n",
       "      <td>7600000.0</td>\n",
       "    </tr>\n",
       "    <tr>\n",
       "      <th>4</th>\n",
       "      <td>BTS</td>\n",
       "      <td>Dynamite</td>\n",
       "      <td>1700000000</td>\n",
       "      <td>0.004</td>\n",
       "      <td>6800000.0</td>\n",
       "    </tr>\n",
       "  </tbody>\n",
       "</table>\n",
       "</div>"
      ],
      "text/plain": [
       "         Artiest         Titel     Streams  Prijs per stream  Totale inkomsten\n",
       "0          Drake    God's Plan  1500000000             0.004         6000000.0\n",
       "1   Taylor Swift    Love Story   300000000             0.004         1200000.0\n",
       "2     Ed Sheeran  Shape of You  2600000000             0.004        10400000.0\n",
       "3  Billie Eilish       Bad Guy  1900000000             0.004         7600000.0\n",
       "4            BTS      Dynamite  1700000000             0.004         6800000.0"
      ]
     },
     "execution_count": 5,
     "metadata": {},
     "output_type": "execute_result"
    }
   ],
   "source": [
    "spotify_df[\"Totale inkomsten\"] = spotify_df[\"Streams\"] * spotify_df[\"Prijs per stream\"]\n",
    "\n",
    "spotify_df.head()"
   ]
  },
  {
   "cell_type": "code",
   "execution_count": null,
   "id": "71636b32-251b-49fd-87c5-cc318dcd7132",
   "metadata": {},
   "outputs": [],
   "source": [
    "### Opdracht 6: Groeperen en aggregeren ###\n",
    "# Gegevens groeperen op basis van de artiest en de totale streams per artiest berekenen."
   ]
  },
  {
   "cell_type": "code",
   "execution_count": 7,
   "id": "715af1ea-8a4d-41cc-b4e7-92cf2882dc8b",
   "metadata": {},
   "outputs": [
    {
     "data": {
      "text/html": [
       "<div>\n",
       "<style scoped>\n",
       "    .dataframe tbody tr th:only-of-type {\n",
       "        vertical-align: middle;\n",
       "    }\n",
       "\n",
       "    .dataframe tbody tr th {\n",
       "        vertical-align: top;\n",
       "    }\n",
       "\n",
       "    .dataframe thead th {\n",
       "        text-align: right;\n",
       "    }\n",
       "</style>\n",
       "<table border=\"1\" class=\"dataframe\">\n",
       "  <thead>\n",
       "    <tr style=\"text-align: right;\">\n",
       "      <th></th>\n",
       "      <th>Artiest</th>\n",
       "      <th>Streams</th>\n",
       "    </tr>\n",
       "  </thead>\n",
       "  <tbody>\n",
       "    <tr>\n",
       "      <th>0</th>\n",
       "      <td>Ariana Grande</td>\n",
       "      <td>2100000000</td>\n",
       "    </tr>\n",
       "    <tr>\n",
       "      <th>1</th>\n",
       "      <td>BTS</td>\n",
       "      <td>1700000000</td>\n",
       "    </tr>\n",
       "    <tr>\n",
       "      <th>2</th>\n",
       "      <td>Billie Eilish</td>\n",
       "      <td>1900000000</td>\n",
       "    </tr>\n",
       "    <tr>\n",
       "      <th>3</th>\n",
       "      <td>Drake</td>\n",
       "      <td>1500000000</td>\n",
       "    </tr>\n",
       "    <tr>\n",
       "      <th>4</th>\n",
       "      <td>Ed Sheeran</td>\n",
       "      <td>2600000000</td>\n",
       "    </tr>\n",
       "    <tr>\n",
       "      <th>5</th>\n",
       "      <td>Taylor Swift</td>\n",
       "      <td>300000000</td>\n",
       "    </tr>\n",
       "  </tbody>\n",
       "</table>\n",
       "</div>"
      ],
      "text/plain": [
       "         Artiest     Streams\n",
       "0  Ariana Grande  2100000000\n",
       "1            BTS  1700000000\n",
       "2  Billie Eilish  1900000000\n",
       "3          Drake  1500000000\n",
       "4     Ed Sheeran  2600000000\n",
       "5   Taylor Swift   300000000"
      ]
     },
     "execution_count": 7,
     "metadata": {},
     "output_type": "execute_result"
    }
   ],
   "source": [
    "groepering = spotify_df.groupby('Artiest')[\"Streams\"].sum().reset_index()\n",
    "groepering"
   ]
  },
  {
   "cell_type": "code",
   "execution_count": null,
   "id": "e40a50fa-fad0-4d37-8d54-4d42460c01f8",
   "metadata": {},
   "outputs": [],
   "source": [
    "### Opdracht 7: Pivot-tabellen ###\n",
    "# Maak een pivot-tabel om de totale inkomsten voor elke artiest te bekijken."
   ]
  },
  {
   "cell_type": "code",
   "execution_count": 8,
   "id": "a4dd546d-7804-4fe4-8eed-fc9d19ebb598",
   "metadata": {},
   "outputs": [
    {
     "data": {
      "text/html": [
       "<div>\n",
       "<style scoped>\n",
       "    .dataframe tbody tr th:only-of-type {\n",
       "        vertical-align: middle;\n",
       "    }\n",
       "\n",
       "    .dataframe tbody tr th {\n",
       "        vertical-align: top;\n",
       "    }\n",
       "\n",
       "    .dataframe thead th {\n",
       "        text-align: right;\n",
       "    }\n",
       "</style>\n",
       "<table border=\"1\" class=\"dataframe\">\n",
       "  <thead>\n",
       "    <tr style=\"text-align: right;\">\n",
       "      <th></th>\n",
       "      <th>Totale inkomsten</th>\n",
       "    </tr>\n",
       "    <tr>\n",
       "      <th>Artiest</th>\n",
       "      <th></th>\n",
       "    </tr>\n",
       "  </thead>\n",
       "  <tbody>\n",
       "    <tr>\n",
       "      <th>Ariana Grande</th>\n",
       "      <td>8400000.0</td>\n",
       "    </tr>\n",
       "    <tr>\n",
       "      <th>BTS</th>\n",
       "      <td>6800000.0</td>\n",
       "    </tr>\n",
       "    <tr>\n",
       "      <th>Billie Eilish</th>\n",
       "      <td>7600000.0</td>\n",
       "    </tr>\n",
       "    <tr>\n",
       "      <th>Drake</th>\n",
       "      <td>6000000.0</td>\n",
       "    </tr>\n",
       "    <tr>\n",
       "      <th>Ed Sheeran</th>\n",
       "      <td>10400000.0</td>\n",
       "    </tr>\n",
       "    <tr>\n",
       "      <th>Taylor Swift</th>\n",
       "      <td>1200000.0</td>\n",
       "    </tr>\n",
       "  </tbody>\n",
       "</table>\n",
       "</div>"
      ],
      "text/plain": [
       "               Totale inkomsten\n",
       "Artiest                        \n",
       "Ariana Grande         8400000.0\n",
       "BTS                   6800000.0\n",
       "Billie Eilish         7600000.0\n",
       "Drake                 6000000.0\n",
       "Ed Sheeran           10400000.0\n",
       "Taylor Swift          1200000.0"
      ]
     },
     "execution_count": 8,
     "metadata": {},
     "output_type": "execute_result"
    }
   ],
   "source": [
    "pivot_tabel = spotify_df.pivot_table(values='Totale inkomsten', index='Artiest', aggfunc='sum')\n",
    "pivot_tabel"
   ]
  },
  {
   "cell_type": "code",
   "execution_count": null,
   "id": "5b4ff62c-9de5-4eae-a2e4-51a67094a11c",
   "metadata": {},
   "outputs": [],
   "source": [
    "### Opdracht 8: DataFrames samenvoegen ###\n",
    "# Stel dat we een tweede dataset hebben met informatie over de muzieklabels van de artiesten. We kunnen deze datasets samenvoegen met .merge()"
   ]
  },
  {
   "cell_type": "code",
   "execution_count": 28,
   "id": "f86761ca-70af-4628-bd0a-c5bb8b780d31",
   "metadata": {},
   "outputs": [
    {
     "data": {
      "text/html": [
       "<div>\n",
       "<style scoped>\n",
       "    .dataframe tbody tr th:only-of-type {\n",
       "        vertical-align: middle;\n",
       "    }\n",
       "\n",
       "    .dataframe tbody tr th {\n",
       "        vertical-align: top;\n",
       "    }\n",
       "\n",
       "    .dataframe thead th {\n",
       "        text-align: right;\n",
       "    }\n",
       "</style>\n",
       "<table border=\"1\" class=\"dataframe\">\n",
       "  <thead>\n",
       "    <tr style=\"text-align: right;\">\n",
       "      <th></th>\n",
       "      <th>Artiest</th>\n",
       "      <th>Titel</th>\n",
       "      <th>Streams</th>\n",
       "      <th>Prijs per stream</th>\n",
       "      <th>Totale inkomsten</th>\n",
       "      <th>Label</th>\n",
       "    </tr>\n",
       "  </thead>\n",
       "  <tbody>\n",
       "    <tr>\n",
       "      <th>0</th>\n",
       "      <td>Drake</td>\n",
       "      <td>God's Plan</td>\n",
       "      <td>1500000000</td>\n",
       "      <td>0.004</td>\n",
       "      <td>6000000.0</td>\n",
       "      <td>Universal</td>\n",
       "    </tr>\n",
       "    <tr>\n",
       "      <th>1</th>\n",
       "      <td>Taylor Swift</td>\n",
       "      <td>Love Story</td>\n",
       "      <td>300000000</td>\n",
       "      <td>0.004</td>\n",
       "      <td>1200000.0</td>\n",
       "      <td>Republic</td>\n",
       "    </tr>\n",
       "    <tr>\n",
       "      <th>2</th>\n",
       "      <td>Ed Sheeran</td>\n",
       "      <td>Shape of You</td>\n",
       "      <td>2600000000</td>\n",
       "      <td>0.004</td>\n",
       "      <td>10400000.0</td>\n",
       "      <td>Atlantic</td>\n",
       "    </tr>\n",
       "    <tr>\n",
       "      <th>3</th>\n",
       "      <td>Billie Eilish</td>\n",
       "      <td>Bad Guy</td>\n",
       "      <td>1900000000</td>\n",
       "      <td>0.004</td>\n",
       "      <td>7600000.0</td>\n",
       "      <td>Interscope</td>\n",
       "    </tr>\n",
       "    <tr>\n",
       "      <th>4</th>\n",
       "      <td>BTS</td>\n",
       "      <td>Dynamite</td>\n",
       "      <td>1700000000</td>\n",
       "      <td>0.004</td>\n",
       "      <td>6800000.0</td>\n",
       "      <td>Big Hit</td>\n",
       "    </tr>\n",
       "    <tr>\n",
       "      <th>5</th>\n",
       "      <td>Ariana Grande</td>\n",
       "      <td>7 rings</td>\n",
       "      <td>2100000000</td>\n",
       "      <td>0.004</td>\n",
       "      <td>8400000.0</td>\n",
       "      <td>Republic</td>\n",
       "    </tr>\n",
       "  </tbody>\n",
       "</table>\n",
       "</div>"
      ],
      "text/plain": [
       "         Artiest         Titel     Streams  Prijs per stream  \\\n",
       "0          Drake    God's Plan  1500000000             0.004   \n",
       "1   Taylor Swift    Love Story   300000000             0.004   \n",
       "2     Ed Sheeran  Shape of You  2600000000             0.004   \n",
       "3  Billie Eilish       Bad Guy  1900000000             0.004   \n",
       "4            BTS      Dynamite  1700000000             0.004   \n",
       "5  Ariana Grande       7 rings  2100000000             0.004   \n",
       "\n",
       "   Totale inkomsten       Label  \n",
       "0         6000000.0   Universal  \n",
       "1         1200000.0    Republic  \n",
       "2        10400000.0    Atlantic  \n",
       "3         7600000.0  Interscope  \n",
       "4         6800000.0     Big Hit  \n",
       "5         8400000.0    Republic  "
      ]
     },
     "execution_count": 28,
     "metadata": {},
     "output_type": "execute_result"
    }
   ],
   "source": [
    "muzieklabels = {\n",
    "    \"Artiest\": [\"Drake\", \"Taylor Swift\", \"Ed Sheeran\", \"Billie Eilish\", \"BTS\", \"Ariana Grande\"],\n",
    "    \"Label\": [\"Universal\", \"Republic\", \"Atlantic\", \"Interscope\", \"Big Hit\", \"Republic\"]\n",
    "}\n",
    "\n",
    "labels_df = pd.DataFrame(muzieklabels)\n",
    "\n",
    "samengevoegd_df = pd.merge(spotify_df, labels_df, on=\"Artiest\")\n",
    "samengevoegd_df"
   ]
  },
  {
   "cell_type": "code",
   "execution_count": null,
   "id": "53c045ff-52c1-45aa-bebc-c0dbbd3b0783",
   "metadata": {},
   "outputs": [],
   "source": [
    "### Conclusie ###\n",
    "# In deze module hebben we geleerd hoe we meer geavanceerde DataFrame manipulatietechnieken kunnen"
   ]
  }
 ],
 "metadata": {
  "kernelspec": {
   "display_name": "Python 3 (ipykernel)",
   "language": "python",
   "name": "python3"
  },
  "language_info": {
   "codemirror_mode": {
    "name": "ipython",
    "version": 3
   },
   "file_extension": ".py",
   "mimetype": "text/x-python",
   "name": "python",
   "nbconvert_exporter": "python",
   "pygments_lexer": "ipython3",
   "version": "3.12.0"
  }
 },
 "nbformat": 4,
 "nbformat_minor": 5
}
