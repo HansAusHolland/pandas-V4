{
 "cells": [
  {
   "cell_type": "markdown",
   "id": "e5503827-460e-41f2-9fa3-6d3df100a0ac",
   "metadata": {},
   "source": [
    "<h1 style=\"text-align: center;\"> Python Pandas: Module 1 </h1>\n",
    "<img\n",
    "    style=\"display: block;\n",
    "    margin-left: auto;\n",
    "    margin-right: auto;\n",
    "    width: 50%;\"\n",
    "    src=\"https://upload.wikimedia.org/wikipedia/commons/thumb/e/ed/Pandas_logo.svg/600px-Pandas_logo.svg.png\" \n",
    "    alt=\"Our logo\">\n",
    "</img>"
   ]
  },
  {
   "cell_type": "code",
   "execution_count": null,
   "id": "1faf2eff-45f6-4ab3-8312-1dfa497dfac1",
   "metadata": {},
   "outputs": [],
   "source": [
    "### Inleiding tot Python Pandas Module 1 ###\n",
    "# Welkom bij deze inleiding tot Python Pandas! Vandaag gaan we leren hoe we met gegevens kunnen werken in Pandas. \n",
    "# We gaan het voorbeeld van een snoepwinkel gebruiken.\n",
    "\n",
    "### Opdracht 1: Importeren van Pandas ###\n",
    "# Eerst moeten we de Pandas bibliotheek importeren. Pandas helpt ons om gemakkelijk met gegevens te werken."
   ]
  },
  {
   "cell_type": "code",
   "execution_count": 3,
   "id": "a1caea55-a978-4fae-96c8-0213099631a2",
   "metadata": {},
   "outputs": [],
   "source": [
    "import pandas as pd"
   ]
  },
  {
   "cell_type": "code",
   "execution_count": null,
   "id": "966951ef-d20e-454e-be78-f85267b0f76a",
   "metadata": {},
   "outputs": [],
   "source": [
    "### Opdracht 2: Creëren van een DataFrame ###\n",
    "# We maken een dictionary genaamd `snoep_winkel` met gegevens over verschillende soorten snoep.\n",
    "# Onze snoep winkel gegevens staat in een Python dictionary deze maakt gebruik van {\"key\": \"value\"} pairs\n",
    "# Maken van een Pandas DataFrame."
   ]
  },
  {
   "cell_type": "code",
   "execution_count": 4,
   "id": "b83400c4-74cb-4c9a-b30e-9543c1637a19",
   "metadata": {},
   "outputs": [
    {
     "data": {
      "text/html": [
       "<div>\n",
       "<style scoped>\n",
       "    .dataframe tbody tr th:only-of-type {\n",
       "        vertical-align: middle;\n",
       "    }\n",
       "\n",
       "    .dataframe tbody tr th {\n",
       "        vertical-align: top;\n",
       "    }\n",
       "\n",
       "    .dataframe thead th {\n",
       "        text-align: right;\n",
       "    }\n",
       "</style>\n",
       "<table border=\"1\" class=\"dataframe\">\n",
       "  <thead>\n",
       "    <tr style=\"text-align: right;\">\n",
       "      <th></th>\n",
       "      <th>Snoep</th>\n",
       "      <th>Kilo's verkocht</th>\n",
       "      <th>Prijs per kg</th>\n",
       "    </tr>\n",
       "  </thead>\n",
       "  <tbody>\n",
       "    <tr>\n",
       "      <th>0</th>\n",
       "      <td>drop</td>\n",
       "      <td>3.0</td>\n",
       "      <td>1.99</td>\n",
       "    </tr>\n",
       "    <tr>\n",
       "      <th>1</th>\n",
       "      <td>lollies</td>\n",
       "      <td>4.5</td>\n",
       "      <td>2.00</td>\n",
       "    </tr>\n",
       "    <tr>\n",
       "      <th>2</th>\n",
       "      <td>appel</td>\n",
       "      <td>12.0</td>\n",
       "      <td>0.50</td>\n",
       "    </tr>\n",
       "    <tr>\n",
       "      <th>3</th>\n",
       "      <td>spekkies</td>\n",
       "      <td>7.0</td>\n",
       "      <td>2.99</td>\n",
       "    </tr>\n",
       "    <tr>\n",
       "      <th>4</th>\n",
       "      <td>zuurtjes</td>\n",
       "      <td>1.5</td>\n",
       "      <td>1.65</td>\n",
       "    </tr>\n",
       "  </tbody>\n",
       "</table>\n",
       "</div>"
      ],
      "text/plain": [
       "      Snoep  Kilo's verkocht  Prijs per kg\n",
       "0      drop              3.0          1.99\n",
       "1   lollies              4.5          2.00\n",
       "2     appel             12.0          0.50\n",
       "3  spekkies              7.0          2.99\n",
       "4  zuurtjes              1.5          1.65"
      ]
     },
     "execution_count": 4,
     "metadata": {},
     "output_type": "execute_result"
    }
   ],
   "source": [
    "snoep_winkel = {\n",
    "    \"Snoep\":[\"drop\", \"lollies\", \"appel\", \"spekkies\", \"zuurtjes\", \"bonbons\"],\n",
    "    \"Kilo's verkocht\":[3, 4.5, 12, 7, 1.5, 6],\n",
    "    \"Prijs per kg\":[1.99, 2.00, 0.50, 2.99, 1.65, 5.00],\n",
    "}\n",
    "\n",
    "snoep_df = pd.DataFrame(snoep_winkel)\n",
    "\n",
    "snoep_df.head()"
   ]
  },
  {
   "cell_type": "code",
   "execution_count": null,
   "id": "dc5e8e50-0907-4bf0-b89c-f163d0f89430",
   "metadata": {},
   "outputs": [],
   "source": [
    "### Opdracht 3: Verkennen van het DataFrame. ###\n",
    "# Laten we eens kijken naar de structuur van dit DataFrame en de eerste paar rijen bekijken.\n",
    "# Om de structuur te bekijken gebruik je de Pandas methode df.info()"
   ]
  },
  {
   "cell_type": "code",
   "execution_count": 7,
   "id": "63438a2a-f77d-43bd-b0cb-504144b3c900",
   "metadata": {},
   "outputs": [
    {
     "name": "stdout",
     "output_type": "stream",
     "text": [
      "<class 'pandas.core.frame.DataFrame'>\n",
      "RangeIndex: 6 entries, 0 to 5\n",
      "Data columns (total 3 columns):\n",
      " #   Column         Non-Null Count  Dtype  \n",
      "---  ------         --------------  -----  \n",
      " 0   Snoep          6 non-null      object \n",
      " 1   Kilo_verkocht  6 non-null      float64\n",
      " 2   Prijs per kg   6 non-null      float64\n",
      "dtypes: float64(2), object(1)\n",
      "memory usage: 276.0+ bytes\n"
     ]
    }
   ],
   "source": [
    "snoep_df.info()"
   ]
  },
  {
   "cell_type": "code",
   "execution_count": null,
   "id": "47cbad34-65a2-4b0f-a12a-5f6f129b9e3a",
   "metadata": {},
   "outputs": [],
   "source": [
    "### Opdracht 4: Eenvoudige bewerkingen. ###\n",
    "# Eenvoudige bewerkingen uitvoeren op het DataFrame. \n",
    "# Berekenen van de totale hoeveelheid verkochte kilo's snoep."
   ]
  },
  {
   "cell_type": "code",
   "execution_count": 5,
   "id": "adfb6b09-9d73-4a26-bfa2-d2d16b5b98c6",
   "metadata": {},
   "outputs": [
    {
     "name": "stdout",
     "output_type": "stream",
     "text": [
      "Totaal aantal verkochte kilo's snoep: 34.0 kg.\n"
     ]
    }
   ],
   "source": [
    "totaal_kilos = snoep_df[\"Kilo's verkocht\"].sum()\n",
    "print(f\"Totaal aantal verkochte kilo's snoep: {totaal_kilos} kg.\")"
   ]
  },
  {
   "cell_type": "code",
   "execution_count": null,
   "id": "32eae8cc-1396-445c-aaad-6f6c99f5075e",
   "metadata": {},
   "outputs": [],
   "source": [
    "### Opdracht 5: Nieuwe kolom toevoegen ###\n",
    "# Voeg een nieuwe kolom toe die de totale verkoopwaarde voor elk type snoep berekent (verkochte kilo's * prijs per kg)."
   ]
  },
  {
   "cell_type": "code",
   "execution_count": 8,
   "id": "36607f77-a1a2-48b4-92b3-63f6aee28494",
   "metadata": {},
   "outputs": [
    {
     "data": {
      "text/html": [
       "<div>\n",
       "<style scoped>\n",
       "    .dataframe tbody tr th:only-of-type {\n",
       "        vertical-align: middle;\n",
       "    }\n",
       "\n",
       "    .dataframe tbody tr th {\n",
       "        vertical-align: top;\n",
       "    }\n",
       "\n",
       "    .dataframe thead th {\n",
       "        text-align: right;\n",
       "    }\n",
       "</style>\n",
       "<table border=\"1\" class=\"dataframe\">\n",
       "  <thead>\n",
       "    <tr style=\"text-align: right;\">\n",
       "      <th></th>\n",
       "      <th>Snoep</th>\n",
       "      <th>Kilo's verkocht</th>\n",
       "      <th>Prijs per kg</th>\n",
       "      <th>Totale verkoopwaarde</th>\n",
       "    </tr>\n",
       "  </thead>\n",
       "  <tbody>\n",
       "    <tr>\n",
       "      <th>0</th>\n",
       "      <td>drop</td>\n",
       "      <td>3.0</td>\n",
       "      <td>1.99</td>\n",
       "      <td>5.970</td>\n",
       "    </tr>\n",
       "    <tr>\n",
       "      <th>1</th>\n",
       "      <td>lollies</td>\n",
       "      <td>4.5</td>\n",
       "      <td>2.00</td>\n",
       "      <td>9.000</td>\n",
       "    </tr>\n",
       "    <tr>\n",
       "      <th>2</th>\n",
       "      <td>appel</td>\n",
       "      <td>12.0</td>\n",
       "      <td>0.50</td>\n",
       "      <td>6.000</td>\n",
       "    </tr>\n",
       "    <tr>\n",
       "      <th>3</th>\n",
       "      <td>spekkies</td>\n",
       "      <td>7.0</td>\n",
       "      <td>2.99</td>\n",
       "      <td>20.930</td>\n",
       "    </tr>\n",
       "    <tr>\n",
       "      <th>4</th>\n",
       "      <td>zuurtjes</td>\n",
       "      <td>1.5</td>\n",
       "      <td>1.65</td>\n",
       "      <td>2.475</td>\n",
       "    </tr>\n",
       "  </tbody>\n",
       "</table>\n",
       "</div>"
      ],
      "text/plain": [
       "      Snoep  Kilo's verkocht  Prijs per kg  Totale verkoopwaarde\n",
       "0      drop              3.0          1.99                 5.970\n",
       "1   lollies              4.5          2.00                 9.000\n",
       "2     appel             12.0          0.50                 6.000\n",
       "3  spekkies              7.0          2.99                20.930\n",
       "4  zuurtjes              1.5          1.65                 2.475"
      ]
     },
     "execution_count": 8,
     "metadata": {},
     "output_type": "execute_result"
    }
   ],
   "source": [
    "snoep_df['Totale verkoopwaarde'] = snoep_df[\"Kilo's verkocht\"] * snoep_df['Prijs per kg']\n",
    "\n",
    "snoep_df.head()"
   ]
  },
  {
   "cell_type": "code",
   "execution_count": null,
   "id": "5ebdce3c-b79c-463f-9e05-7b825fa8f163",
   "metadata": {},
   "outputs": [],
   "source": [
    "### Opdracht 6: Data visualisatie met Python Matplotlib ###\n",
    "# Maak een grafiek om te laten zien hoeveel kilo's van elk type snoep verkocht zijn."
   ]
  },
  {
   "cell_type": "code",
   "execution_count": 6,
   "id": "9137ae4a-2f0d-457c-b0ba-7d80f1f5efee",
   "metadata": {},
   "outputs": [
    {
     "data": {
      "image/png": "[encoded data removed]",
      "text/plain": [
       "<Figure size 1000x600 with 1 Axes>"
      ]
     },
     "metadata": {},
     "output_type": "display_data"
    }
   ],
   "source": [
    "import matplotlib.pyplot as plt\n",
    "\n",
    "# Staafdiagram van de verkochte kilo's snoep\n",
    "plt.figure(figsize=(10, 6))\n",
    "plt.bar(snoep_df['Snoep'], snoep_df[\"Kilo's verkocht\"], color='skyblue')\n",
    "\n",
    "plt.title(\"Verkochte kilo's snoep\")\n",
    "plt.xlabel(\"Snoep\")\n",
    "plt.ylabel(\"Kilo's verkocht\")\n",
    "\n",
    "plt.show()"
   ]
  },
  {
   "cell_type": "code",
   "execution_count": null,
   "id": "f5383feb-f27e-4244-ab0c-12fde6d78a57",
   "metadata": {},
   "outputs": [],
   "source": [
    "### Opdracht 7: Gemiddelde prijs per kg ###\n",
    "# Berekenen van de gemiddelde prijs per kilo van alle snoepjes."
   ]
  },
  {
   "cell_type": "code",
   "execution_count": 7,
   "id": "b70f345a-21e5-404a-b6f0-af1544840aa1",
   "metadata": {},
   "outputs": [
    {
     "name": "stdout",
     "output_type": "stream",
     "text": [
      "Gemiddelde prijs per kg snoep: €2.35\n"
     ]
    }
   ],
   "source": [
    "gemiddelde_prijs = snoep_df['Prijs per kg'].mean()\n",
    "print(f\"Gemiddelde prijs per kg snoep: €{gemiddelde_prijs:.2f}\")"
   ]
  },
  {
   "cell_type": "code",
   "execution_count": null,
   "id": "8c46ec02-f4fd-41f3-a757-0aff8492eb68",
   "metadata": {},
   "outputs": [],
   "source": [
    "### Opdracht 8: Sorteren van de gegevens ###\n",
    "# Sorteren van de gegevens op basis van de 'Totale verkoopwaarde' in aflopende volgorde."
   ]
  },
  {
   "cell_type": "code",
   "execution_count": 9,
   "id": "e4c32ce7-b879-4f7a-997d-451c68f860a0",
   "metadata": {},
   "outputs": [
    {
     "data": {
      "text/html": [
       "<div>\n",
       "<style scoped>\n",
       "    .dataframe tbody tr th:only-of-type {\n",
       "        vertical-align: middle;\n",
       "    }\n",
       "\n",
       "    .dataframe tbody tr th {\n",
       "        vertical-align: top;\n",
       "    }\n",
       "\n",
       "    .dataframe thead th {\n",
       "        text-align: right;\n",
       "    }\n",
       "</style>\n",
       "<table border=\"1\" class=\"dataframe\">\n",
       "  <thead>\n",
       "    <tr style=\"text-align: right;\">\n",
       "      <th></th>\n",
       "      <th>Snoep</th>\n",
       "      <th>Kilo's verkocht</th>\n",
       "      <th>Prijs per kg</th>\n",
       "      <th>Totale verkoopwaarde</th>\n",
       "    </tr>\n",
       "  </thead>\n",
       "  <tbody>\n",
       "    <tr>\n",
       "      <th>5</th>\n",
       "      <td>bonbons</td>\n",
       "      <td>6.0</td>\n",
       "      <td>5.00</td>\n",
       "      <td>30.00</td>\n",
       "    </tr>\n",
       "    <tr>\n",
       "      <th>3</th>\n",
       "      <td>spekkies</td>\n",
       "      <td>7.0</td>\n",
       "      <td>2.99</td>\n",
       "      <td>20.93</td>\n",
       "    </tr>\n",
       "    <tr>\n",
       "      <th>1</th>\n",
       "      <td>lollies</td>\n",
       "      <td>4.5</td>\n",
       "      <td>2.00</td>\n",
       "      <td>9.00</td>\n",
       "    </tr>\n",
       "    <tr>\n",
       "      <th>2</th>\n",
       "      <td>appel</td>\n",
       "      <td>12.0</td>\n",
       "      <td>0.50</td>\n",
       "      <td>6.00</td>\n",
       "    </tr>\n",
       "    <tr>\n",
       "      <th>0</th>\n",
       "      <td>drop</td>\n",
       "      <td>3.0</td>\n",
       "      <td>1.99</td>\n",
       "      <td>5.97</td>\n",
       "    </tr>\n",
       "  </tbody>\n",
       "</table>\n",
       "</div>"
      ],
      "text/plain": [
       "      Snoep  Kilo's verkocht  Prijs per kg  Totale verkoopwaarde\n",
       "5   bonbons              6.0          5.00                 30.00\n",
       "3  spekkies              7.0          2.99                 20.93\n",
       "1   lollies              4.5          2.00                  9.00\n",
       "2     appel             12.0          0.50                  6.00\n",
       "0      drop              3.0          1.99                  5.97"
      ]
     },
     "execution_count": 9,
     "metadata": {},
     "output_type": "execute_result"
    }
   ],
   "source": [
    "snoep_df_sorted = snoep_df.sort_values(by=\"Totale verkoopwaarde\", ascending=False)\n",
    "\n",
    "snoep_df_sorted.head()"
   ]
  },
  {
   "cell_type": "code",
   "execution_count": null,
   "id": "4c3f8017-0c68-481a-8be1-da971d96efab",
   "metadata": {},
   "outputs": [],
   "source": [
    "### Conclusie: Gefeliciteerd! ###\n",
    "# Je hebt zojuist geleerd hoe je gegevens kunt laden, verkennen, manipuleren en visualiseren met Pandas. \n",
    "# Blijf oefenen en experimenteer met verschillende datasets om je Python Pandas vaardigheden te verbeteren."
   ]
  },
  {
   "cell_type": "code",
   "execution_count": 2,
   "id": "b142705b-64c7-4027-8cbc-5af4ed087bf7",
   "metadata": {},
   "outputs": [],
   "source": [
    "### Handige Pandas-functies ###\n",
    "\n",
    "# 1. head() - De eerste rijen van de tabel bekijken\n",
    "# De functie .head() laat standaard de eerste 5 rijen van de DataFrame zien.\n",
    "# snoep_df.head()\n",
    "\n",
    "# 2. tail() - om de laatste rijen van de tabel bekijken\n",
    "# De functie .tail() laat standaard de laatste 5 rijen van de DataFrame zien.\n",
    "# snoep_df.tail()\n",
    "\n",
    "# 3. info() - geeft een samenvatting van de tabel\n",
    "# De functie .info() is handig om snel een overzicht te krijgen van de structuur van je gegevens.\n",
    "# snoep_df.info()\n",
    "\n",
    "# 4. describe() - Samenvattende statistieken\n",
    "# De functie .describe() geeft nuttige statistieken zoals het gemiddelde, de minimale en maximale waarden.\n",
    "# snoep_df.describe()\n",
    "\n",
    "# 5. sort_values() - Gegevens sorteren\n",
    "# We kunnen gegevens sorteren op basis van een kolom. Bijvoorbeeld, we sorteren op de prijs per kilo:\n",
    "# snoep_df.sort_values(by=\"Prijs per kg\", ascending=False)\n",
    "\n",
    "# Dit geeft een lijst van snoepsoorten, gesorteerd van duur naar goedkoop.\n",
    "\n",
    "# 6. loc[] en iloc[] - Specifieke rijen en kolommen selecteren\n",
    "# Als we bijvoorbeeld alleen de snoepsoorten en de verkochte kilo’s willen zien, kunnen we .loc[] gebruiken:\n",
    "# snoep_df.loc[:, [\"Snoep\", \"Kilo's verkocht\"]]\n",
    "\n",
    "# Met .iloc[] kunnen we rijen op basis van hun indexnummer selecteren:\n",
    "# snoep_df.iloc[0:3]  # Laat de eerste drie rijen zien\n",
    "\n",
    "# Experimenteer met deze functies om de gegevens beter te begrijpen!"
   ]
  }
 ],
 "metadata": {
  "kernelspec": {
   "display_name": "Python 3 (ipykernel)",
   "language": "python",
   "name": "python3"
  },
  "language_info": {
   "codemirror_mode": {
    "name": "ipython",
    "version": 3
   },
   "file_extension": ".py",
   "mimetype": "text/x-python",
   "name": "python",
   "nbconvert_exporter": "python",
   "pygments_lexer": "ipython3",
   "version": "3.12.0"
  }
 },
 "nbformat": 4,
 "nbformat_minor": 5
}
